{
 "cells": [
  {
   "cell_type": "code",
   "execution_count": 30,
   "id": "9e3ed0c1",
   "metadata": {},
   "outputs": [],
   "source": [
    "import pandas as pd "
   ]
  },
  {
   "cell_type": "code",
   "execution_count": 31,
   "id": "27e17b3a",
   "metadata": {},
   "outputs": [],
   "source": [
    "data = pd.read_csv('salary experience data.csv')"
   ]
  },
  {
   "cell_type": "code",
   "execution_count": 46,
   "id": "0ba6dde7",
   "metadata": {},
   "outputs": [
    {
     "name": "stdout",
     "output_type": "stream",
     "text": [
      "<class 'pandas.core.frame.DataFrame'>\n",
      "RangeIndex: 375 entries, 0 to 374\n",
      "Data columns (total 2 columns):\n",
      " #   Column               Non-Null Count  Dtype  \n",
      "---  ------               --------------  -----  \n",
      " 0   Years of Experience  373 non-null    float64\n",
      " 1   Salary               373 non-null    float64\n",
      "dtypes: float64(2)\n",
      "memory usage: 6.0 KB\n"
     ]
    }
   ],
   "source": [
    "data.info()"
   ]
  },
  {
   "cell_type": "code",
   "execution_count": 33,
   "id": "70c9e361",
   "metadata": {},
   "outputs": [],
   "source": [
    "sumExperience = data['Years of Experience'].sum()"
   ]
  },
  {
   "cell_type": "code",
   "execution_count": 34,
   "id": "bd1c39f3",
   "metadata": {},
   "outputs": [],
   "source": [
    "sumSalary = data['Salary'].sum()"
   ]
  },
  {
   "cell_type": "code",
   "execution_count": 35,
   "id": "0ba8a67d",
   "metadata": {},
   "outputs": [],
   "source": [
    "salaryExperience = (data['Salary'] * data['Years of Experience']).sum()"
   ]
  },
  {
   "cell_type": "code",
   "execution_count": 36,
   "id": "554ea774",
   "metadata": {},
   "outputs": [],
   "source": [
    "experienceSquared = (data['Years of Experience'] ** 2).sum()"
   ]
  },
  {
   "cell_type": "code",
   "execution_count": 37,
   "id": "0d1491cf",
   "metadata": {},
   "outputs": [],
   "source": [
    "count = len(data)"
   ]
  },
  {
   "cell_type": "code",
   "execution_count": 38,
   "id": "9c94ede5",
   "metadata": {},
   "outputs": [],
   "source": [
    "slope = (count * salaryExperience - sumExperience * sumSalary)/(count * experienceSquared - sumExperience**2)"
   ]
  },
  {
   "cell_type": "code",
   "execution_count": 40,
   "id": "04072c82",
   "metadata": {},
   "outputs": [],
   "source": [
    "intercept = (sumSalary - slope * sumExperience)/count"
   ]
  },
  {
   "cell_type": "code",
   "execution_count": 43,
   "id": "8ea45828",
   "metadata": {},
   "outputs": [
    {
     "data": {
      "text/plain": [
       "6883.844526341885"
      ]
     },
     "execution_count": 43,
     "metadata": {},
     "output_type": "execute_result"
    }
   ],
   "source": [
    "slope"
   ]
  },
  {
   "cell_type": "code",
   "execution_count": 42,
   "id": "3c94b5a9",
   "metadata": {},
   "outputs": [
    {
     "data": {
      "text/plain": [
       "31358.521879178224"
      ]
     },
     "execution_count": 42,
     "metadata": {},
     "output_type": "execute_result"
    }
   ],
   "source": [
    "intercept"
   ]
  },
  {
   "cell_type": "code",
   "execution_count": 44,
   "id": "fee23e0d",
   "metadata": {},
   "outputs": [],
   "source": [
    "fiveYears = slope * 5 + intercept"
   ]
  },
  {
   "cell_type": "code",
   "execution_count": 45,
   "id": "03b5cc80",
   "metadata": {},
   "outputs": [
    {
     "data": {
      "text/plain": [
       "65777.74451088766"
      ]
     },
     "execution_count": 45,
     "metadata": {},
     "output_type": "execute_result"
    }
   ],
   "source": [
    "fiveYears"
   ]
  },
  {
   "cell_type": "code",
   "execution_count": null,
   "id": "0e76f049",
   "metadata": {},
   "outputs": [],
   "source": []
  }
 ],
 "metadata": {
  "kernelspec": {
   "display_name": "Python 3 (ipykernel)",
   "language": "python",
   "name": "python3"
  },
  "language_info": {
   "codemirror_mode": {
    "name": "ipython",
    "version": 3
   },
   "file_extension": ".py",
   "mimetype": "text/x-python",
   "name": "python",
   "nbconvert_exporter": "python",
   "pygments_lexer": "ipython3",
   "version": "3.11.4"
  }
 },
 "nbformat": 4,
 "nbformat_minor": 5
}
